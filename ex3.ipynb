{
 "cells": [
  {
   "cell_type": "code",
   "execution_count": 77,
   "metadata": {},
   "outputs": [],
   "source": [
    "import numpy as np\n",
    "import matplotlib.pyplot as plt\n",
    "import math\n",
    "import itertools\n",
    "import time"
   ]
  },
  {
   "cell_type": "code",
   "execution_count": 55,
   "metadata": {},
   "outputs": [],
   "source": [
    "# get possible edges in a grid\n",
    "def get_edges(num_rows, num_cols):\n",
    "    edges = {}\n",
    "    for row in range(num_rows):\n",
    "        for col in range(num_cols):\n",
    "            neighbors = []\n",
    "            if row - 1 >= 0:\n",
    "                neighbors.append((row - 1, col))\n",
    "            if row + 1 < num_rows:\n",
    "                neighbors.append((row + 1, col))\n",
    "            if col - 1 >=0:\n",
    "                neighbors.append((row, col - 1))\n",
    "            if col + 1 < num_cols:\n",
    "                neighbors.append((row, col + 1))\n",
    "            \n",
    "            edges[row*num_cols + col] = neighbors\n",
    "    return edges"
   ]
  },
  {
   "cell_type": "code",
   "execution_count": 52,
   "metadata": {},
   "outputs": [],
   "source": [
    "# genrate x = (x1,x2, ..., x25) using gibbs sampling\n",
    "# order: x1 x2 x3 x4 x5\n",
    "#        x6 x7 x8 x9 x10\n",
    "#        x11 x12 x13 x14 x15\n",
    "#        x16 x17 x18 x19 x20\n",
    "#        x21 x22 x23 x24 x25\n",
    "def gibbs_generate_x(num_rows, num_cols, num_iterations):\n",
    "    # draw random values from [0,1] and place them on a grid\n",
    "    grid = np.random.randint(0, 2, (num_rows,num_cols))\n",
    "    \n",
    "    # per each node get possible edges \n",
    "    edges = get_edges(num_rows, num_cols)\n",
    "    \n",
    "    # save tuples of all rows and columns for convenient iteration\n",
    "    rows = [i for i in range(num_rows) for _ in range(num_cols)]\n",
    "    cols = list(range(num_cols))*num_rows\n",
    "    \n",
    "    # iterations\n",
    "    for i in range(0, num_iterations):\n",
    "        # iterate over grid indices\n",
    "        for row, col in zip(rows, cols):\n",
    "            neighbors = edges[row*num_cols + col]\n",
    "            # iterate over neighbors\n",
    "            x_eq_0 = 0  # sum indicators of x_i with all the neighbors when x_i=0 \n",
    "            x_eq_1 = 0  # sum indicators of x_i with all the neighbors when x_i=1\n",
    "            for neighbor_row, neighbor_col in neighbors:\n",
    "                x_eq_0 += 1 if grid[neighbor_row, neighbor_col] == 0 else 0\n",
    "                x_eq_1 += 1 if grid[neighbor_row, neighbor_col] == 1 else 0\n",
    "            \n",
    "            p_x_eq_0_given_neighbors = np.exp(x_eq_0)/(np.exp(x_eq_0) + np.exp(x_eq_1))  # p(xi=0|x1,...,x25)\n",
    "            grid[row,col] = 0 if np.random.rand() < p_x_eq_0_given_neighbors else 1  # generate value\n",
    "\n",
    "    return grid"
   ]
  },
  {
   "cell_type": "code",
   "execution_count": 53,
   "metadata": {},
   "outputs": [],
   "source": [
    "# generate y_i from normal distribution with mu=x_i and sigma_i=1\n",
    "def generate_y(num_rows, num_cols, grid):\n",
    "    y_grid = np.zeros(grid.shape)\n",
    "    \n",
    "    # save tuples of all rows and columns for convenient iteration\n",
    "    rows = [i for i in range(num_rows) for _ in range(num_cols)]\n",
    "    cols = list(range(num_cols))*num_rows\n",
    "    \n",
    "    # generate y_grid\n",
    "    for row, col in zip(rows, cols): \n",
    "        y_grid[row,col] = np.random.normal(grid[row,col], 1)\n",
    "    \n",
    "    return y_grid"
   ]
  },
  {
   "cell_type": "code",
   "execution_count": 80,
   "metadata": {},
   "outputs": [],
   "source": [
    "# computing the correct marginal distribution according to p(x_i|y) = sigma_over_X\\x_i{p(x_i,X|y)}\n",
    "# fixed_index and vixed val - the x_i index and value that will not be changed\n",
    "def correct_marginal(fixed_index, xi_val, y_grid, num_rows, num_cols):\n",
    "    \n",
    "    # per each node get possible edges \n",
    "    edges = get_edges(num_rows, num_cols)\n",
    "    \n",
    "    # save tuples of all rows and columns for convenient iteration\n",
    "    rows = [i for i in range(num_rows) for _ in range(num_cols)]\n",
    "    cols = list(range(num_cols))*num_rows\n",
    "    \n",
    "    # get all combinations of X\\x_i\n",
    "    combinations = list(map(list, itertools.product([0, 1], repeat=num_rows*num_cols-1)))\n",
    "    exp_sum_0 = exp_sum_1 = 0\n",
    "    \n",
    "    start_time = time.time()\n",
    "    \n",
    "    # per each X compute p(X|Y)\n",
    "    for iteration, comb in enumerate(combinations):\n",
    "        comb_0 = list(comb)\n",
    "        comb_1 = list(comb)\n",
    "        \n",
    "        comb_0.insert(fixed_index, 0)  # insert x_i=0 at the relevant position\n",
    "        comb_1.insert(fixed_index, 1)  # insert x_i=1 at the relevant position\n",
    "        \n",
    "        grid_0 = np.asarray(comb_0).reshape(num_rows,num_cols)  # build grid from the current permutation with x_i=0\n",
    "        grid_1 = np.asarray(comb_1).reshape(num_rows,num_cols)  # build grid from the current permutation with x_i=1\n",
    "        \n",
    "        psi_xi_xj_0 = psi_xi_xj_1 = 0\n",
    "\n",
    "        # iterate over grid indices\n",
    "        for row, col in zip(rows, cols):\n",
    "            neighbors = edges[row*num_cols + col]\n",
    "                        \n",
    "            # iterate over neighbors\n",
    "            for neighbor_row, neighbor_col in neighbors:\n",
    "                psi_xi_xj_0 += 1 if grid_0[neighbor_row, neighbor_col] == grid_0[row, col] else 0\n",
    "                psi_xi_xj_1 += 1 if grid_1[neighbor_row, neighbor_col] == grid_1[row, col] else 0\n",
    "                    \n",
    "        psi_xi_yi_0 = np.sum(-0.5*(grid_0 - y_grid) ** 2)\n",
    "        psi_xi_yi_1 = np.sum(-0.5*(grid_1 - y_grid) ** 2)\n",
    "\n",
    "        exp_sum_0 += np.exp(psi_xi_xj_0 + psi_xi_yi_0)  # exp^(sigama_psi_ij(x_i,x_j) + sigama_psi_i(x_i,y_i))\n",
    "        exp_sum_1 += np.exp(psi_xi_xj_1 + psi_xi_yi_1)  # exp^(sigama_psi_ij(x_i,x_j) + sigama_psi_i(x_i,y_i))\n",
    "        \n",
    "        if iteration % 100000 == 0:\n",
    "            elapsed_time = time.time() - start_time\n",
    "            elapsed_time = time.strftime(\"%H:%M:%S\", time.gmtime(elapsed_time))\n",
    "            print(str(elapsed_time) + \": \" + str(iteration) + \" iterations passed\")\n",
    "        \n",
    "    p_xi_given_y = exp_sum_0/(exp_sum_0 + exp_sum_1) if xi_val == 0 else exp_sum_1/(exp_sum_0 + exp_sum_1)  # p(x_i=0 | y1,...,y25) or p(x_i=1 | y1,...,y25)\n",
    "    return p_xi_given_y"
   ]
  },
  {
   "cell_type": "code",
   "execution_count": null,
   "metadata": {},
   "outputs": [],
   "source": [
    "    \n",
    "    "
   ]
  },
  {
   "cell_type": "code",
   "execution_count": 75,
   "metadata": {},
   "outputs": [
    {
     "name": "stdout",
     "output_type": "stream",
     "text": [
      "[[1 1 0]\n",
      " [0 1 0]\n",
      " [1 1 1]]\n",
      "[[0.13504349 0.27818506 0.44410675]\n",
      " [0.91764942 0.3202238  0.85412648]\n",
      " [0.1141354  0.85190199 0.47738424]]\n",
      "[[-0.37407488 -0.26050841 -0.0986154 ]\n",
      " [-0.42104023 -0.23104784 -0.36476602]\n",
      " [-0.39237804 -0.01096651 -0.13656362]]\n",
      "-2.289960953824007\n"
     ]
    }
   ],
   "source": [
    "grid_0 = np.random.randint(0, 2, (3,3))\n",
    "y_grid = np.random.rand(3,3)\n",
    "print(grid_0)\n",
    "print(y_grid)\n",
    "print(-0.5*(grid_0 - y_grid) ** 2)\n",
    "print(np.sum(-0.5*(grid_0 - y_grid) ** 2))"
   ]
  },
  {
   "cell_type": "code",
   "execution_count": null,
   "metadata": {},
   "outputs": [],
   "source": []
  },
  {
   "cell_type": "code",
   "execution_count": null,
   "metadata": {},
   "outputs": [],
   "source": []
  },
  {
   "cell_type": "code",
   "execution_count": null,
   "metadata": {},
   "outputs": [],
   "source": []
  },
  {
   "cell_type": "code",
   "execution_count": null,
   "metadata": {},
   "outputs": [],
   "source": []
  },
  {
   "cell_type": "code",
   "execution_count": null,
   "metadata": {},
   "outputs": [],
   "source": []
  },
  {
   "cell_type": "code",
   "execution_count": null,
   "metadata": {},
   "outputs": [],
   "source": []
  },
  {
   "cell_type": "code",
   "execution_count": null,
   "metadata": {},
   "outputs": [],
   "source": []
  },
  {
   "cell_type": "code",
   "execution_count": null,
   "metadata": {},
   "outputs": [],
   "source": []
  },
  {
   "cell_type": "code",
   "execution_count": null,
   "metadata": {},
   "outputs": [],
   "source": []
  },
  {
   "cell_type": "code",
   "execution_count": 83,
   "metadata": {},
   "outputs": [
    {
     "name": "stdout",
     "output_type": "stream",
     "text": [
      "[[1 1 0 0 1]\n",
      " [1 1 0 0 0]\n",
      " [1 1 0 0 0]\n",
      " [0 1 1 1 0]\n",
      " [1 1 1 1 0]]\n",
      "[[ 2.47089137  1.80035099  0.7296911  -1.07243159  1.33548536]\n",
      " [ 3.06151232  1.52832455 -1.15760754 -0.4899489  -1.32276818]\n",
      " [ 2.08479065  1.90488301  1.20166761  0.27954848  0.66653454]\n",
      " [-0.23913622  0.97126084  0.61148317  0.7524438  -0.08196441]\n",
      " [ 1.42112959  0.12474655  0.91836101  0.9292069   0.51232383]]\n",
      "00:00:00: 0 iterations passed\n",
      "00:00:06: 100000 iterations passed\n",
      "00:00:13: 200000 iterations passed\n",
      "00:00:20: 300000 iterations passed\n",
      "00:00:27: 400000 iterations passed\n",
      "00:00:35: 500000 iterations passed\n"
     ]
    },
    {
     "ename": "KeyboardInterrupt",
     "evalue": "",
     "output_type": "error",
     "traceback": [
      "\u001b[0;31m---------------------------------------------------------------------------\u001b[0m",
      "\u001b[0;31mKeyboardInterrupt\u001b[0m                         Traceback (most recent call last)",
      "\u001b[0;32m<ipython-input-83-eefcdb48c1a8>\u001b[0m in \u001b[0;36m<module>\u001b[0;34m()\u001b[0m\n\u001b[1;32m     10\u001b[0m \u001b[0mprint\u001b[0m\u001b[0;34m(\u001b[0m\u001b[0mgrid\u001b[0m\u001b[0;34m)\u001b[0m\u001b[0;34m\u001b[0m\u001b[0m\n\u001b[1;32m     11\u001b[0m \u001b[0mprint\u001b[0m\u001b[0;34m(\u001b[0m\u001b[0my_grid\u001b[0m\u001b[0;34m)\u001b[0m\u001b[0;34m\u001b[0m\u001b[0m\n\u001b[0;32m---> 12\u001b[0;31m \u001b[0mprint\u001b[0m\u001b[0;34m(\u001b[0m\u001b[0mcorrect_marginal\u001b[0m\u001b[0;34m(\u001b[0m\u001b[0;36m0\u001b[0m\u001b[0;34m,\u001b[0m \u001b[0mgrid\u001b[0m\u001b[0;34m[\u001b[0m\u001b[0;36m0\u001b[0m\u001b[0;34m]\u001b[0m\u001b[0;34m[\u001b[0m\u001b[0;36m0\u001b[0m\u001b[0;34m]\u001b[0m\u001b[0;34m,\u001b[0m \u001b[0my_grid\u001b[0m\u001b[0;34m,\u001b[0m \u001b[0mnum_rows\u001b[0m\u001b[0;34m,\u001b[0m \u001b[0mnum_cols\u001b[0m\u001b[0;34m)\u001b[0m\u001b[0;34m)\u001b[0m\u001b[0;34m\u001b[0m\u001b[0m\n\u001b[0m\u001b[1;32m     13\u001b[0m \u001b[0;34m\u001b[0m\u001b[0m\n\u001b[1;32m     14\u001b[0m \u001b[0;31m# now, it's like we are in the real world and we are receiving a picture\u001b[0m\u001b[0;34m\u001b[0m\u001b[0;34m\u001b[0m\u001b[0m\n",
      "\u001b[0;32m<ipython-input-80-ce52f65d2735>\u001b[0m in \u001b[0;36mcorrect_marginal\u001b[0;34m(fixed_index, xi_val, y_grid, num_rows, num_cols)\u001b[0m\n\u001b[1;32m     35\u001b[0m             \u001b[0;31m# iterate over neighbors\u001b[0m\u001b[0;34m\u001b[0m\u001b[0;34m\u001b[0m\u001b[0m\n\u001b[1;32m     36\u001b[0m             \u001b[0;32mfor\u001b[0m \u001b[0mneighbor_row\u001b[0m\u001b[0;34m,\u001b[0m \u001b[0mneighbor_col\u001b[0m \u001b[0;32min\u001b[0m \u001b[0mneighbors\u001b[0m\u001b[0;34m:\u001b[0m\u001b[0;34m\u001b[0m\u001b[0m\n\u001b[0;32m---> 37\u001b[0;31m                 \u001b[0mpsi_xi_xj_0\u001b[0m \u001b[0;34m+=\u001b[0m \u001b[0;36m1\u001b[0m \u001b[0;32mif\u001b[0m \u001b[0mgrid_0\u001b[0m\u001b[0;34m[\u001b[0m\u001b[0mneighbor_row\u001b[0m\u001b[0;34m,\u001b[0m \u001b[0mneighbor_col\u001b[0m\u001b[0;34m]\u001b[0m \u001b[0;34m==\u001b[0m \u001b[0mgrid_0\u001b[0m\u001b[0;34m[\u001b[0m\u001b[0mrow\u001b[0m\u001b[0;34m,\u001b[0m \u001b[0mcol\u001b[0m\u001b[0;34m]\u001b[0m \u001b[0;32melse\u001b[0m \u001b[0;36m0\u001b[0m\u001b[0;34m\u001b[0m\u001b[0m\n\u001b[0m\u001b[1;32m     38\u001b[0m                 \u001b[0mpsi_xi_xj_1\u001b[0m \u001b[0;34m+=\u001b[0m \u001b[0;36m1\u001b[0m \u001b[0;32mif\u001b[0m \u001b[0mgrid_1\u001b[0m\u001b[0;34m[\u001b[0m\u001b[0mneighbor_row\u001b[0m\u001b[0;34m,\u001b[0m \u001b[0mneighbor_col\u001b[0m\u001b[0;34m]\u001b[0m \u001b[0;34m==\u001b[0m \u001b[0mgrid_1\u001b[0m\u001b[0;34m[\u001b[0m\u001b[0mrow\u001b[0m\u001b[0;34m,\u001b[0m \u001b[0mcol\u001b[0m\u001b[0;34m]\u001b[0m \u001b[0;32melse\u001b[0m \u001b[0;36m0\u001b[0m\u001b[0;34m\u001b[0m\u001b[0m\n\u001b[1;32m     39\u001b[0m \u001b[0;34m\u001b[0m\u001b[0m\n",
      "\u001b[0;31mKeyboardInterrupt\u001b[0m: "
     ]
    }
   ],
   "source": [
    "np.random.seed(999)\n",
    "num_rows = 5\n",
    "num_cols = 5\n",
    "num_iterations = 10000\n",
    "\n",
    "# generate a random picture \n",
    "grid = gibbs_generate_x(num_rows, num_cols, num_iterations)\n",
    "y_grid = generate_y(num_rows, num_cols, grid)\n",
    "\n",
    "print(grid)\n",
    "print(y_grid)\n",
    "print(correct_marginal(0, grid[0][0], y_grid, num_rows, num_cols))\n",
    "\n",
    "# now, it's like we are in the real world and we are receiving a picture"
   ]
  }
 ],
 "metadata": {
  "kernelspec": {
   "display_name": "Python 3",
   "language": "python",
   "name": "python3"
  },
  "language_info": {
   "codemirror_mode": {
    "name": "ipython",
    "version": 3
   },
   "file_extension": ".py",
   "mimetype": "text/x-python",
   "name": "python",
   "nbconvert_exporter": "python",
   "pygments_lexer": "ipython3",
   "version": "3.6.6"
  }
 },
 "nbformat": 4,
 "nbformat_minor": 2
}
